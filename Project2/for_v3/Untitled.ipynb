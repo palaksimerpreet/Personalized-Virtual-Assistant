{
 "cells": [
  {
   "cell_type": "code",
   "execution_count": 3,
   "id": "d83e17c7",
   "metadata": {},
   "outputs": [
    {
     "name": "stdout",
     "output_type": "stream",
     "text": [
      "simerpreet C:\\Users\\DELL\\Desktop\\IDA\\for_v3\\images\\Simerpreet\\WIN_20210407_12_19_27_Pro.jpg\n",
      "{'simerpreet': 0}\n",
      "simerpreet C:\\Users\\DELL\\Desktop\\IDA\\for_v3\\images\\Simerpreet\\WIN_20210407_12_19_28_Pro.jpg\n",
      "{'simerpreet': 0}\n",
      "simerpreet C:\\Users\\DELL\\Desktop\\IDA\\for_v3\\images\\Simerpreet\\WIN_20210407_12_19_29_Pro.jpg\n",
      "{'simerpreet': 0}\n",
      "simerpreet C:\\Users\\DELL\\Desktop\\IDA\\for_v3\\images\\Simerpreet\\WIN_20210407_12_19_31_Pro.jpg\n",
      "{'simerpreet': 0}\n",
      "simerpreet C:\\Users\\DELL\\Desktop\\IDA\\for_v3\\images\\Simerpreet\\WIN_20210407_12_19_32_Pro.jpg\n",
      "{'simerpreet': 0}\n",
      "simerpreet C:\\Users\\DELL\\Desktop\\IDA\\for_v3\\images\\Simerpreet\\WIN_20210407_12_19_33_Pro.jpg\n",
      "{'simerpreet': 0}\n",
      "simerpreet C:\\Users\\DELL\\Desktop\\IDA\\for_v3\\images\\Simerpreet\\WIN_20210407_12_19_34_Pro.jpg\n",
      "{'simerpreet': 0}\n",
      "simerpreet C:\\Users\\DELL\\Desktop\\IDA\\for_v3\\images\\Simerpreet\\WIN_20210407_12_19_35_Pro (2).jpg\n",
      "{'simerpreet': 0}\n",
      "simerpreet C:\\Users\\DELL\\Desktop\\IDA\\for_v3\\images\\Simerpreet\\WIN_20210407_12_19_35_Pro.jpg\n",
      "{'simerpreet': 0}\n",
      "simerpreet C:\\Users\\DELL\\Desktop\\IDA\\for_v3\\images\\Simerpreet\\WIN_20210407_12_19_42_Pro.jpg\n",
      "{'simerpreet': 0}\n",
      "simerpreet C:\\Users\\DELL\\Desktop\\IDA\\for_v3\\images\\Simerpreet\\WIN_20210407_12_19_43_Pro.jpg\n",
      "{'simerpreet': 0}\n",
      "simerpreet C:\\Users\\DELL\\Desktop\\IDA\\for_v3\\images\\Simerpreet\\WIN_20210407_12_19_44_Pro (2).jpg\n",
      "{'simerpreet': 0}\n",
      "simerpreet C:\\Users\\DELL\\Desktop\\IDA\\for_v3\\images\\Simerpreet\\WIN_20210407_12_19_44_Pro.jpg\n",
      "{'simerpreet': 0}\n",
      "[0, 0, 0]\n",
      "[array([[ 75,  65,  64, ..., 128, 138, 148],\n",
      "       [ 75,  65,  63, ...,  85, 104, 110],\n",
      "       [ 76,  65,  64, ...,  50,  53,  44],\n",
      "       ...,\n",
      "       [ 26,  29,  28, ..., 149, 150, 149],\n",
      "       [ 26,  28,  29, ..., 149, 148, 148],\n",
      "       [ 26,  29,  29, ..., 149, 148, 147]], dtype=uint8), array([[ 60,  62,  62, ..., 148, 145, 149],\n",
      "       [ 59,  60,  62, ..., 146, 146, 147],\n",
      "       [ 58,  59,  60, ..., 145, 146, 144],\n",
      "       ...,\n",
      "       [ 32,  32,  32, ..., 147, 147, 147],\n",
      "       [ 33,  33,  33, ..., 147, 148, 148],\n",
      "       [ 33,  32,  34, ..., 147, 148, 148]], dtype=uint8), array([[140, 139, 138, ..., 144, 149, 144],\n",
      "       [140, 140, 139, ..., 142, 146, 149],\n",
      "       [142, 140, 140, ..., 142, 145, 150],\n",
      "       ...,\n",
      "       [109, 107, 111, ..., 161, 159, 158],\n",
      "       [109, 104,  98, ..., 160, 160, 159],\n",
      "       [108, 100,  85, ..., 158, 160, 159]], dtype=uint8)]\n"
     ]
    }
   ],
   "source": [
    "import cv2\n",
    "import os\n",
    "import numpy as np\n",
    "from PIL import Image\n",
    "import pickle\n",
    "\n",
    "BASE_DIR = os.path.dirname(os.path.abspath(\"__file__\"))\n",
    "image_dir = os.path.join(BASE_DIR, \"images\")\n",
    "\n",
    "face_cascade = cv2.CascadeClassifier(r'C:\\Users\\DELL\\Desktop\\IDA\\for_v3\\cascades\\data\\haarcascade_frontalface_alt2.xml')\n",
    "recognizer = cv2.face.LBPHFaceRecognizer_create()\n",
    "\n",
    "current_id = 0\n",
    "label_ids = {}\n",
    "y_labels = []\n",
    "x_train = []\n",
    "\n",
    "for root, dirs, files in os.walk(image_dir):\n",
    "\tfor file in files:\n",
    "\t\tif file.endswith(\"png\") or file.endswith(\"jpg\"):\n",
    "\t\t\tpath = os.path.join(root, file)\n",
    "\t\t\tlabel = os.path.basename(root).replace(\" \", \"-\").lower()\n",
    "\t\t\tprint(label, path)\n",
    "\t\t\tif not label in label_ids:\n",
    "\t\t\t\tlabel_ids[label] = current_id\n",
    "\t\t\t\tcurrent_id += 1\n",
    "\t\t\tid_ = label_ids[label]\n",
    "\t\t\tprint(label_ids)\n",
    "\t\t\t#y_labels.append(label) # some number\n",
    "\t\t\t#x_train.append(path) # verify this image, turn into a NUMPY arrray, GRAY\n",
    "\t\t\tpil_image = Image.open(path).convert(\"L\") # grayscale\n",
    "\t\t\tsize = (550, 550)\n",
    "\t\t\tfinal_image = pil_image.resize(size, Image.ANTIALIAS)\n",
    "\t\t\timage_array = np.array(final_image, \"uint8\")\n",
    "\t\t\t#print(image_array)\n",
    "\t\t\tfaces = face_cascade.detectMultiScale(image_array,minNeighbors=5)\n",
    "\n",
    "\t\t\tfor (x,y,w,h) in faces:\n",
    "\t\t\t\troi = image_array[y:y+h, x:x+w]\n",
    "\t\t\t\tx_train.append(roi)\n",
    "\t\t\t\ty_labels.append(id_)\n",
    "\n",
    "print(y_labels)\n",
    "print(x_train)\n",
    "\n",
    "with open(r'C:\\Users\\DELL\\Desktop\\IDA\\for_v3\\pickles\\\\face-labels.pickle','wb') as f:\n",
    "   pickle.dump(label_ids, f)\n",
    "y_labels=np.array(y_labels)\n",
    "recognizer.train(x_train,y_labels)\n",
    "recognizer.save(r\"C:\\Users\\DELL\\Desktop\\IDA\\for_v3\\recognizers\")"
   ]
  },
  {
   "cell_type": "code",
   "execution_count": 7,
   "id": "f03e1d7e",
   "metadata": {},
   "outputs": [
    {
     "name": "stdout",
     "output_type": "stream",
     "text": [
      "Requirement already satisfied: opencv-contrib-python in c:\\users\\dell\\anaconda3\\lib\\site-packages (4.5.5.64)\n",
      "Requirement already satisfied: numpy>=1.19.3 in c:\\users\\dell\\anaconda3\\lib\\site-packages (from opencv-contrib-python) (1.20.3)\n",
      "Note: you may need to restart the kernel to use updated packages.\n"
     ]
    }
   ],
   "source": [
    "pip install opencv-contrib-python"
   ]
  },
  {
   "cell_type": "code",
   "execution_count": null,
   "id": "8370e2c3",
   "metadata": {},
   "outputs": [],
   "source": []
  }
 ],
 "metadata": {
  "kernelspec": {
   "display_name": "Python 3 (ipykernel)",
   "language": "python",
   "name": "python3"
  },
  "language_info": {
   "codemirror_mode": {
    "name": "ipython",
    "version": 3
   },
   "file_extension": ".py",
   "mimetype": "text/x-python",
   "name": "python",
   "nbconvert_exporter": "python",
   "pygments_lexer": "ipython3",
   "version": "3.9.7"
  }
 },
 "nbformat": 4,
 "nbformat_minor": 5
}
